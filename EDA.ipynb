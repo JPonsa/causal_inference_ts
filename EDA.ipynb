{
 "cells": [
  {
   "cell_type": "code",
   "execution_count": null,
   "metadata": {},
   "outputs": [],
   "source": [
    "import pandas as pd\n",
    "import numpy as np\n",
    "from datetime import datetime\n",
    "\n",
    "import seaborn as sns\n",
    "import matplotlib.pyplot as plt\n",
    "\n",
    "import yfinance as yf\n",
    "\n",
    "from sklearn.linear_model import LinearRegression\n",
    "from sklearn.metrics import mean_absolute_percentage_error as MAPE\n",
    "#from prophet import Prophet\n",
    "# from causalimpact import CausalImpact\n",
    "# # import os\n"
   ]
  },
  {
   "cell_type": "code",
   "execution_count": null,
   "metadata": {},
   "outputs": [],
   "source": [
    "# Pharmaceutical Companies\n",
    "pharma_companies = {\n",
    "    # 'BNTX': 'BioNTech SE',\n",
    "    'PFE': 'Pfizer Inc.',\n",
    "    'JNJ': 'Johnson & Johnson',\n",
    "    'NVS': 'Novartis AG',\n",
    "    'ROG': 'Roche Holding AG',\n",
    "    'MRK': 'Merck & Co., Inc.',\n",
    "    'SNY': 'Sanofi',\n",
    "    'GSK': 'GlaxoSmithKline plc',\n",
    "    'AZN': 'AstraZeneca PLC',\n",
    "    'LLY': 'Eli Lilly and Company',\n",
    "    'ABBV': 'AbbVie Inc.'\n",
    " }\n",
    "\n",
    "# Banks\n",
    "consumer_staples = {\n",
    "'KO' : 'The Coca-Cola Company (KO)',\n",
    "'CL' : 'Colgate-Palmolive Company (CL):',\n",
    "'KMB' : 'Kimberly-Clark Corporation (KMB)',\n",
    "'UL': 'Unilever (UL)'\n",
    "}\n",
    "\n",
    "retail = {\n",
    "    \"AMZN\" : \"Amazon.com, Inc.\",\n",
    "    \"ITX.MC\" : \"Industria de Diseño Textil, S.A.\",\n",
    "    \"HNNMY\" : \"Hennes & Mauritz AB\",\n",
    "    \"MC.PA\" : \"LVMH Moët Hennessy Louis Vuitton S.E.\",\n",
    "    \"9983.T\": \"Fast Retailing Co., Ltd.\"\n",
    "}\n",
    "\n",
    "# Global Economy Indicators\n",
    "global_economy_indicators = {\n",
    "    '^GSPC' : 'S&P 500 Index',\n",
    "    '^IXIC' : 'NASDAQ Composite',\n",
    "    '^FTSE' : 'FTSE 100 (^FTSE)',\n",
    "    '^DJI' : 'Dow Jones Industrial Average',\n",
    "    'MSCI' : 'MSCI World Index'\n",
    " }\n"
   ]
  },
  {
   "cell_type": "code",
   "execution_count": null,
   "metadata": {},
   "outputs": [],
   "source": [
    "pre_period = [pd.to_datetime('2017-1-1'), pd.to_datetime('2020-2-1')]\n",
    "post_period = [pd.to_datetime('2020-3-1'), pd.to_datetime('2020-9-1')]"
   ]
  },
  {
   "cell_type": "code",
   "execution_count": null,
   "metadata": {},
   "outputs": [],
   "source": [
    "stocks = (list(pharma_companies.keys())\n",
    "          + list(consumer_staples.keys())\n",
    "          + list(retail.keys())\n",
    "          + list(global_economy_indicators.keys()))\n",
    "stock_marker  = yf.download(start = pre_period[0], end = post_period[1] + pd.DateOffset(months=1), tickers=stocks)"
   ]
  },
  {
   "cell_type": "code",
   "execution_count": null,
   "metadata": {},
   "outputs": [],
   "source": [
    "adj_close = stock_marker[\"Adj Close\"]\n",
    "monthly_avg = adj_close.resample('M').mean()\n",
    "monthly_avg.index = monthly_avg.index.strftime('%Y-%m')\n",
    "monthly_avg"
   ]
  },
  {
   "cell_type": "code",
   "execution_count": null,
   "metadata": {},
   "outputs": [],
   "source": [
    "def plot_stocks(stocks:list):\n",
    "    for stock in stocks:\n",
    "        \n",
    "        sns.lineplot(x=monthly_avg.index, y=monthly_avg[stock], label=stock)\n",
    "\n",
    "    plt.axvline(x=\"2020-03\", c=\"k\", linestyle=\"--\")\n",
    "    plt.xticks(rotation=90)\n",
    "    plt.show()\n"
   ]
  },
  {
   "cell_type": "code",
   "execution_count": null,
   "metadata": {},
   "outputs": [],
   "source": [
    "import plotly_express as px\n",
    "\n",
    "def timeline_plot(df):\n",
    "    fig = px.line(df, x=df.index, y=df.columns)\n",
    "    fig.update_layout(shapes=[\n",
    "        dict(\n",
    "            type='line',\n",
    "            xref='x',\n",
    "            yref='paper',\n",
    "            x0='2020-03',\n",
    "            y0=0,\n",
    "            x1='2020-03',\n",
    "            y1=1,\n",
    "            line=dict(\n",
    "                color='black',\n",
    "                width=2,\n",
    "                dash='dash'\n",
    "            )\n",
    "        )\n",
    "    ])\n",
    "    fig.show()\n"
   ]
  },
  {
   "cell_type": "code",
   "execution_count": null,
   "metadata": {},
   "outputs": [],
   "source": [
    "timeline_plot(monthly_avg[pharma_companies.keys()])"
   ]
  },
  {
   "cell_type": "code",
   "execution_count": null,
   "metadata": {},
   "outputs": [],
   "source": [
    "timeline_plot(monthly_avg[consumer_staples.keys()])"
   ]
  },
  {
   "cell_type": "code",
   "execution_count": null,
   "metadata": {},
   "outputs": [],
   "source": [
    "timeline_plot(monthly_avg[retail.keys()])"
   ]
  },
  {
   "cell_type": "code",
   "execution_count": null,
   "metadata": {},
   "outputs": [],
   "source": [
    "timeline_plot(monthly_avg[global_economy_indicators.keys()])"
   ]
  },
  {
   "cell_type": "code",
   "execution_count": null,
   "metadata": {},
   "outputs": [],
   "source": [
    "\n",
    "corr = monthly_avg.loc[pre_period[0].strftime('%Y-%m'):pre_period[1].strftime('%Y-%m'), :].corr()\n",
    "corr = corr.loc[list(pharma_companies.keys()), \n",
    "         list(global_economy_indicators.keys())]\n",
    "sns.heatmap(corr, annot=True, cmap='coolwarm',vmax=1, vmin=0)\n",
    "plt.title(\"Pearson's Correlation Heatmap\")\n",
    "plt.show()\n"
   ]
  },
  {
   "cell_type": "code",
   "execution_count": null,
   "metadata": {},
   "outputs": [],
   "source": [
    "corr.loc[list(pharma_companies.keys()), \n",
    "         list(global_economy_indicators.keys())]"
   ]
  },
  {
   "cell_type": "code",
   "execution_count": null,
   "metadata": {},
   "outputs": [],
   "source": [
    "monthly_avg"
   ]
  },
  {
   "cell_type": "code",
   "execution_count": null,
   "metadata": {},
   "outputs": [],
   "source": [
    "from causalimpact import CausalImpact\n",
    "\n",
    "def causal_impact_analysis(ci_data, target, pre_period, post_period):\n",
    "\n",
    "    ci = CausalImpact(ci_data, pre_period, post_period)\n",
    "    ci.run()\n",
    "    \n",
    "    # Check model accuracy (MAPE) in the pre period\n",
    "    y_pred_pre = ci.inferences.loc[:pre_period[1]]['point_pred']\n",
    "    y_pre = ci_data.loc[:pre_period[1]][target]\n",
    "\n",
    "    mape = MAPE(y_pre, y_pred_pre)\n",
    "    print(f'The mean absolute percentage error in the pre period is {mape:.2f}%')\n",
    "    \n",
    "    # Model summary\n",
    "    print(ci.summary())\n",
    "    \n",
    "    # This graph shows the empirical and counterfactual data\n",
    "    ci.plot(panels=['original', 'pointwise', 'cumulative'], figsize=(15,5))\n",
    "    \n",
    "    return ci"
   ]
  },
  {
   "cell_type": "code",
   "execution_count": null,
   "metadata": {},
   "outputs": [],
   "source": [
    "for pharma in pharma_companies.keys():\n",
    "    print(f\"{'='*10} {pharma} {'='*10}\")\n",
    "    tmp = monthly_avg[[pharma]+list(global_economy_indicators.keys())].dropna()\n",
    "    tmp.index= pd.to_datetime(tmp.index, format=\"%Y-%m\")\n",
    "    test = causal_impact_analysis(tmp, pharma, pre_period, post_period)"
   ]
  },
  {
   "cell_type": "code",
   "execution_count": null,
   "metadata": {},
   "outputs": [],
   "source": [
    "for company in consumer_staples.keys():\n",
    "    print(f\"{'='*10} {company} {'='*10}\")\n",
    "    tmp = monthly_avg[[company]+list(global_economy_indicators.keys())]\n",
    "    tmp.index= pd.to_datetime(tmp.index, format=\"%Y-%m\")\n",
    "    causal_impact_analysis(tmp, company, pre_period, post_period)"
   ]
  },
  {
   "cell_type": "code",
   "execution_count": null,
   "metadata": {},
   "outputs": [],
   "source": [
    "for company in retail.keys():\n",
    "    print(f\"{'='*10} {company} {'='*10}\")\n",
    "    tmp = monthly_avg[[company]+list(global_economy_indicators.keys())]\n",
    "    tmp.index= pd.to_datetime(tmp.index, format=\"%Y-%m\")\n",
    "    causal_impact_analysis(tmp, company, pre_period, post_period)"
   ]
  },
  {
   "cell_type": "code",
   "execution_count": null,
   "metadata": {},
   "outputs": [],
   "source": [
    "for indicator in global_economy_indicators.keys():\n",
    "    print(f\"{'='*10} {indicator} {'='*10}\")\n",
    "    x = list(global_economy_indicators.keys())\n",
    "    x.remove(indicator)\n",
    "    order = [indicator] + x\n",
    "    tmp = monthly_avg[order]\n",
    "    tmp.index= pd.to_datetime(tmp.index, format=\"%Y-%m\")\n",
    "    causal_impact_analysis(tmp, company, pre_period, post_period)"
   ]
  },
  {
   "cell_type": "code",
   "execution_count": null,
   "metadata": {},
   "outputs": [],
   "source": []
  }
 ],
 "metadata": {
  "kernelspec": {
   "display_name": "base",
   "language": "python",
   "name": "python3"
  },
  "language_info": {
   "codemirror_mode": {
    "name": "ipython",
    "version": 3
   },
   "file_extension": ".py",
   "mimetype": "text/x-python",
   "name": "python",
   "nbconvert_exporter": "python",
   "pygments_lexer": "ipython3",
   "version": "3.11.7"
  }
 },
 "nbformat": 4,
 "nbformat_minor": 2
}
