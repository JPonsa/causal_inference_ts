{
 "cells": [
  {
   "cell_type": "code",
   "execution_count": 1,
   "metadata": {
    "vscode": {
     "languageId": "r"
    }
   },
   "outputs": [],
   "source": [
    "#install.packages(\"CausalImpact\")"
   ]
  },
  {
   "cell_type": "code",
   "execution_count": 2,
   "metadata": {
    "vscode": {
     "languageId": "r"
    }
   },
   "outputs": [
    {
     "name": "stderr",
     "output_type": "stream",
     "text": [
      "Loading required package: bsts\n",
      "Warning message:\n",
      "\"package 'bsts' was built under R version 3.6.3\"Loading required package: BoomSpikeSlab\n",
      "Warning message:\n",
      "\"package 'BoomSpikeSlab' was built under R version 3.6.3\"Loading required package: Boom\n",
      "Warning message:\n",
      "\"package 'Boom' was built under R version 3.6.3\"Loading required package: MASS\n",
      "\n",
      "Attaching package: 'Boom'\n",
      "\n",
      "The following object is masked from 'package:stats':\n",
      "\n",
      "    rWishart\n",
      "\n",
      "\n",
      "Attaching package: 'BoomSpikeSlab'\n",
      "\n",
      "The following object is masked from 'package:stats':\n",
      "\n",
      "    knots\n",
      "\n",
      "Loading required package: zoo\n",
      "\n",
      "Attaching package: 'zoo'\n",
      "\n",
      "The following objects are masked from 'package:base':\n",
      "\n",
      "    as.Date, as.Date.numeric\n",
      "\n",
      "Loading required package: xts\n",
      "Registered S3 method overwritten by 'xts':\n",
      "  method     from\n",
      "  as.zoo.xts zoo \n",
      "\n",
      "Attaching package: 'bsts'\n",
      "\n",
      "The following object is masked from 'package:BoomSpikeSlab':\n",
      "\n",
      "    SuggestBurn\n",
      "\n",
      "Registered S3 methods overwritten by 'ggplot2':\n",
      "  method         from \n",
      "  [.quosures     rlang\n",
      "  c.quosures     rlang\n",
      "  print.quosures rlang\n"
     ]
    }
   ],
   "source": [
    "# Load libraries\n",
    "library(CausalImpact)\n",
    "library(ggplot2)"
   ]
  },
  {
   "cell_type": "code",
   "execution_count": 3,
   "metadata": {
    "vscode": {
     "languageId": "r"
    }
   },
   "outputs": [],
   "source": [
    "# Pharmaceutical Companies\n",
    "pharma_companies <- list(\n",
    "    \"PFE\" = \"Pfizer Inc.\",\n",
    "    \"JNJ\" = \"Johnson & Johnson\",\n",
    "    \"NVS\" = \"Novartis AG\",\n",
    "    \"ROG\" = \"Roche Holding AG\",\n",
    "    \"MRK\" = \"Merck & Co., Inc.\",\n",
    "    \"SNY\" = \"Sanofi\",\n",
    "    \"GSK\" = \"GlaxoSmithKline plc\",\n",
    "    \"AZN\" = \"AstraZeneca PLC\",\n",
    "    \"LLY\" = \"Eli Lilly and Company\",\n",
    "    \"ABBV\" = \"AbbVie Inc.\"\n",
    ")\n",
    "\n",
    "# Consumer Staples\n",
    "consumer_staples <- list(\n",
    "    \"KO\" = \"The Coca-Cola Company (KO)\",\n",
    "    \"CL\" = \"Colgate-Palmolive Company (CL)\",\n",
    "    \"KMB\" = \"Kimberly-Clark Corporation (KMB)\",\n",
    "    \"UL\" = \"Unilever (UL)\"\n",
    ")\n",
    "\n",
    "# Retail\n",
    "retail <- list(\n",
    "    \"AMZN\" = \"Amazon.com, Inc.\",\n",
    "    \"ITX.MC\" = \"Industria de Diseño Textil, S.A.\",\n",
    "    \"HNNMY\" = \"Hennes & Mauritz AB\",\n",
    "    \"MC.PA\" = \"LVMH Moët Hennessy Louis Vuitton S.E.\",\n",
    "    \"9983.T\" = \"Fast Retailing Co., Ltd.\"\n",
    ")\n",
    "\n",
    "# Global Economy Indicators\n",
    "global_economy_indicators <- list(\n",
    "    \"^GSPC\" = \"S&P 500 Index\",\n",
    "    \"^IXIC\" = \"NASDAQ Composite\",\n",
    "    \"^FTSE\" = \"FTSE 100 (^FTSE)\",\n",
    "    \"^DJI\" = \"Dow Jones Industrial Average\",\n",
    "    \"MSCI\" = \"MSCI World Index\"\n",
    ")\n",
    "\n",
    "industry_tickers <- list(\n",
    "    \"Pharma\" = pharma_companies,\n",
    "    \"Consumables\" = consumer_staples,\n",
    "    \"Retail\" = retail,\n",
    "    \"Global Economy\" = global_economy_indicators\n",
    ")\n",
    "\n",
    "tickers <- c(\n",
    "    names(pharma_companies),\n",
    "    names(consumer_staples),\n",
    "    names(retail),\n",
    "    names(global_economy_indicators)\n",
    ")\n"
   ]
  },
  {
   "cell_type": "code",
   "execution_count": 4,
   "metadata": {
    "vscode": {
     "languageId": "r"
    }
   },
   "outputs": [],
   "source": [
    "# Calculate monthly average\n",
    "cacl_monthly_avg_kpi <- function(stock_df, kpi = \"Adj Close\") {\n",
    "    kpi_df <- stock_df[kpi]\n",
    "    \n",
    "    monthly_avg <- aggregate(kpi_df, by = list(format(stock_df$Date, \"%Y-%m\")), mean, na.rm=TRUE)\n",
    "    colnames(monthly_avg) <- c(\"Date\", kpi)\n",
    "    \n",
    "    return(monthly_avg)\n",
    "}\n"
   ]
  },
  {
   "cell_type": "code",
   "execution_count": 5,
   "metadata": {
    "vscode": {
     "languageId": "r"
    }
   },
   "outputs": [],
   "source": [
    "# Pre-COVID Lockdown \n",
    "pre.period <- as.Date(c(\"2017-01-01\", \"2020-02-01\"))\n",
    "# COVID Lockdown\n",
    "post.period <- as.Date(c(\"2020-03-01\", \"2020-12-01\"))"
   ]
  },
  {
   "cell_type": "code",
   "execution_count": 6,
   "metadata": {
    "vscode": {
     "languageId": "r"
    }
   },
   "outputs": [],
   "source": [
    "raw_dir = \"./data/raw/\"\n",
    "kpi = \"Adj.Close\"\n",
    "\n",
    "dates <- seq.Date(pre.period[1], post.period[2], by = \"month\")\n",
    "monthly_adj_close <- data.frame(Date = dates)\n",
    "rownames(monthly_adj_close) <- dates\n",
    "monthly_adj_close <- monthly_adj_close[, -1] \n",
    "\n",
    "\n",
    "for (ticker in tickers) {\n",
    "    # Load data\n",
    "    ticker_df <- read.csv(paste0(raw_dir, ticker, \".csv\"), row.names = 1)\n",
    "\n",
    "    # Convert Index to date\n",
    "    row_dates <- as.Date(row.names(ticker_df))\n",
    "    ticker_df <- cbind(Date = row_dates, ticker_df)\n",
    "\n",
    "    # Calc Monthly Average\n",
    "    ticker_df <- cacl_monthly_avg_kpi(ticker_df, kpi)\n",
    "    colnames(ticker_df) <- c(\"Date\", ticker)\n",
    "    #Combine in a single table\n",
    "    monthly_adj_close <- cbind(monthly_adj_close, ticker_df[ticker])\n",
    "}\n"
   ]
  },
  {
   "cell_type": "code",
   "execution_count": 7,
   "metadata": {
    "vscode": {
     "languageId": "r"
    }
   },
   "outputs": [
    {
     "name": "stdout",
     "output_type": "stream",
     "text": [
      "[1] \"=====  PFE  =====\"\n",
      "[1] \"=====  JNJ  =====\"\n",
      "[1] \"=====  NVS  =====\"\n",
      "[1] \"=====  ROG  =====\"\n",
      "[1] \"=====  MRK  =====\"\n",
      "[1] \"=====  SNY  =====\"\n",
      "[1] \"=====  GSK  =====\"\n",
      "[1] \"=====  AZN  =====\"\n",
      "[1] \"=====  LLY  =====\"\n",
      "[1] \"=====  ABBV  =====\"\n",
      "[1] \"=====  AMZN  =====\"\n",
      "[1] \"=====  ITX.MC  =====\"\n",
      "[1] \"=====  HNNMY  =====\"\n",
      "[1] \"=====  MC.PA  =====\"\n",
      "[1] \"=====  9983.T  =====\"\n"
     ]
    },
    {
     "ename": "ERROR",
     "evalue": "Error in parse(text = x, keep.source = FALSE): <text>:1:6: unexpected symbol\n1: 9983.T\n         ^\n",
     "output_type": "error",
     "traceback": [
      "Error in parse(text = x, keep.source = FALSE): <text>:1:6: unexpected symbol\n1: 9983.T\n         ^\nTraceback:\n",
      "1. CausalImpact(ticker_zoo, pre.period, post.period)",
      "2. RunWithData(data, pre.period, post.period, model.args, alpha)",
      "3. ConstructModel(data.modeling, model.args)",
      "4. bsts(formula, data = data, state.specification = ss, expected.model.size = kStaticRegressionExpectedModelSize, \n .     expected.r2 = kStaticRegressionExpectedR2, prior.df = kStaticRegressionPriorDf, \n .     niter = model.args$niter, seed = 1, ping = 0, model.options = BstsOptions(save.prediction.errors = TRUE), \n .     max.flips = model.args$max.flips)",
      "5. eval(my.model.frame, parent.frame())",
      "6. eval(my.model.frame, parent.frame())",
      "7. model.frame(formula = formula, data = data, drop.unused.levels = TRUE, \n .     na.action = function (object, ...) \n .     object)",
      "8. model.frame.default(formula = formula, data = data, drop.unused.levels = TRUE, \n .     na.action = function (object, ...) \n .     object)",
      "9. as.formula(formula)",
      "10. formula(object, env = baseenv())",
      "11. formula.character(object, env = baseenv())",
      "12. formula(eval(parse(text = x, keep.source = FALSE)[[1L]]))",
      "13. eval(parse(text = x, keep.source = FALSE)[[1L]])",
      "14. parse(text = x, keep.source = FALSE)"
     ]
    }
   ],
   "source": [
    "for (industry in list(pharma_companies, consumer_staples, retail)){\n",
    "    for (company in names(industry)){\n",
    "        print(paste(\"===== \", company, \" =====\"))\n",
    "        impact_tickers <- c(company, names(global_economy_indicators))\n",
    "        ticker_df = monthly_adj_close[impact_tickers]\n",
    "\n",
    "        ticker_zoo = zoo(ticker_df,order.by = as.Date(row.names(ticker_df)))\n",
    "        impact <- CausalImpact(ticker_zoo, pre.period, post.period)\n",
    "        plot(impact) + labs(title =company)\n",
    "        \n",
    "        ggsave(paste0(\"figures/R/\",company,\".png\"), width=15, height=5, dpi=300)\n",
    "\n",
    "        causal_impact_table <- capture.output(summary(impact))\n",
    "        writeLines(causal_impact_table, paste0(\"figures/R/\",company,\".causal_impact.txt\"))\n",
    "\n",
    "        summary_report <- capture.output(summary(impact, \"report\"))\n",
    "        writeLines(summary_report, paste0(\"figures/R/\",company,\".summary_report.txt\"))\n",
    "        \n",
    "    }\n",
    "}"
   ]
  },
  {
   "cell_type": "code",
   "execution_count": null,
   "metadata": {
    "vscode": {
     "languageId": "r"
    }
   },
   "outputs": [],
   "source": []
  }
 ],
 "metadata": {
  "kernelspec": {
   "display_name": "R",
   "language": "R",
   "name": "ir"
  },
  "language_info": {
   "codemirror_mode": "r",
   "file_extension": ".r",
   "mimetype": "text/x-r-source",
   "name": "R",
   "pygments_lexer": "r",
   "version": "3.6.1"
  }
 },
 "nbformat": 4,
 "nbformat_minor": 2
}
