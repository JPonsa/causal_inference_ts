{
 "cells": [
  {
   "cell_type": "code",
   "execution_count": 37,
   "metadata": {},
   "outputs": [],
   "source": [
    "from datetime import date\n",
    "\n",
    "import pandas as pd\n",
    "from src.data.preprocessing import cacl_monthly_avg_kpi\n",
    "from src.utils.variables import pharma_companies, global_economy_indicators"
   ]
  },
  {
   "cell_type": "code",
   "execution_count": 2,
   "metadata": {},
   "outputs": [],
   "source": [
    "raw_dir = \"./data/raw/\"\n",
    "kpi= \"Adj Close\"\n",
    "\n",
    "tickers = list(pharma_companies.keys()) + list(global_economy_indicators.keys())\n",
    "\n",
    "monthly_abj_close = pd.DataFrame()\n",
    "for ticker in tickers:\n",
    "    ticker_df = pd.read_csv(f\"{raw_dir}{ticker}.csv\", index_col=0)\n",
    "    ticker_df.index = pd.to_datetime(ticker_df.index)\n",
    "    ticker_df  = cacl_monthly_avg_kpi(ticker_df, kpi)\n",
    "    ticker_df.name = ticker\n",
    "    \n",
    "    monthly_abj_close = pd.concat([monthly_abj_close, ticker_df], axis=1)\n",
    "    \n",
    "monthly_abj_close.index = pd.to_datetime(monthly_abj_close.index, format=\"%Y-%m\").to_period()"
   ]
  },
  {
   "cell_type": "code",
   "execution_count": 119,
   "metadata": {},
   "outputs": [],
   "source": [
    "covid_period = pd.to_datetime(date(2020, 3, 1)).to_period(freq=\"M\")\n",
    "monthly_abj_close = monthly_abj_close.loc[monthly_abj_close.index < covid_period, :]\n",
    "X = monthly_abj_close.iloc[:-6, :]\n",
    "y = monthly_abj_close.iloc[-6:, :]\n"
   ]
  },
  {
   "cell_type": "code",
   "execution_count": null,
   "metadata": {},
   "outputs": [],
   "source": [
    "forecaster = MultiplexForecaster(forecasters=[\n",
    "    (\"ets\", AutoETS()),\n",
    "    (\"theta\", ThetaForecaster()),\n",
    "    (\"naive\", NaiveForecaster())])  \n",
    "\n",
    "cv = ExpandingWindowSplitter(step_length=12) \n",
    " \n",
    "gscv = ForecastingGridSearchCV(\n",
    "    cv=cv,\n",
    "    param_grid={\"selected_forecaster\":[\"ets\", \"theta\", \"naive\"]},\n",
    "    forecaster=forecaster)  \n",
    "gscv.fit(y)  \n",
    "ForecastingGridSearchCV(...)"
   ]
  },
  {
   "cell_type": "code",
   "execution_count": 132,
   "metadata": {},
   "outputs": [
    {
     "name": "stderr",
     "output_type": "stream",
     "text": [
      "c:\\Users\\joanp\\anaconda3\\envs\\causal_inference_ts\\Lib\\site-packages\\sktime\\forecasting\\model_selection\\_tune.py:198: UserWarning: in ForecastingGridSearchCV, n_jobs and pre_dispatch parameters are deprecated and will be removed in 0.26.0. Please use n_jobs and pre_dispatch directly in the backend_params argument instead.\n",
      "  warn(\n",
      "c:\\Users\\joanp\\anaconda3\\envs\\causal_inference_ts\\Lib\\site-packages\\sktime\\utils\\parallel.py:92: FitFailedWarning: \n",
      "                In evaluate, fitting of forecaster MultiplexForecaster failed,\n",
      "                you can set error_score='raise' in evaluate to see\n",
      "                the exception message.\n",
      "                Fit failed for the 0-th data split, on training data y_train with\n",
      "                cutoff NaT, and len(y_train)=10.\n",
      "                The score will be set to nan.\n",
      "                Failed forecaster with parameters: MultiplexForecaster(forecasters=[('autoets', AutoETS()), ('arima', ARIMA()),\n",
      "                                 ('sarimax', SARIMAX()), ('varmax', VARMAX())],\n",
      "                    selected_forecaster='varmax').\n",
      "                \n",
      "  ret = [fun(x, meta=meta) for x in iter]\n",
      "c:\\Users\\joanp\\anaconda3\\envs\\causal_inference_ts\\Lib\\site-packages\\sktime\\utils\\parallel.py:92: FitFailedWarning: \n",
      "                In evaluate, fitting of forecaster MultiplexForecaster failed,\n",
      "                you can set error_score='raise' in evaluate to see\n",
      "                the exception message.\n",
      "                Fit failed for the 1-th data split, on training data y_train with\n",
      "                cutoff NaT, and len(y_train)=16.\n",
      "                The score will be set to nan.\n",
      "                Failed forecaster with parameters: MultiplexForecaster(forecasters=[('autoets', AutoETS()), ('arima', ARIMA()),\n",
      "                                 ('sarimax', SARIMAX()), ('varmax', VARMAX())],\n",
      "                    selected_forecaster='varmax').\n",
      "                \n",
      "  ret = [fun(x, meta=meta) for x in iter]\n",
      "c:\\Users\\joanp\\anaconda3\\envs\\causal_inference_ts\\Lib\\site-packages\\sktime\\utils\\parallel.py:92: FitFailedWarning: \n",
      "                In evaluate, fitting of forecaster MultiplexForecaster failed,\n",
      "                you can set error_score='raise' in evaluate to see\n",
      "                the exception message.\n",
      "                Fit failed for the 2-th data split, on training data y_train with\n",
      "                cutoff NaT, and len(y_train)=22.\n",
      "                The score will be set to nan.\n",
      "                Failed forecaster with parameters: MultiplexForecaster(forecasters=[('autoets', AutoETS()), ('arima', ARIMA()),\n",
      "                                 ('sarimax', SARIMAX()), ('varmax', VARMAX())],\n",
      "                    selected_forecaster='varmax').\n",
      "                \n",
      "  ret = [fun(x, meta=meta) for x in iter]\n",
      "c:\\Users\\joanp\\anaconda3\\envs\\causal_inference_ts\\Lib\\site-packages\\sktime\\utils\\parallel.py:92: FitFailedWarning: \n",
      "                In evaluate, fitting of forecaster MultiplexForecaster failed,\n",
      "                you can set error_score='raise' in evaluate to see\n",
      "                the exception message.\n",
      "                Fit failed for the 3-th data split, on training data y_train with\n",
      "                cutoff NaT, and len(y_train)=28.\n",
      "                The score will be set to nan.\n",
      "                Failed forecaster with parameters: MultiplexForecaster(forecasters=[('autoets', AutoETS()), ('arima', ARIMA()),\n",
      "                                 ('sarimax', SARIMAX()), ('varmax', VARMAX())],\n",
      "                    selected_forecaster='varmax').\n",
      "                \n",
      "  ret = [fun(x, meta=meta) for x in iter]\n"
     ]
    },
    {
     "data": {
      "text/html": [
       "<style>#sk-db276f4f-174e-4edf-9f8e-f5a91431edf3 {color: black;background-color: white;}#sk-db276f4f-174e-4edf-9f8e-f5a91431edf3 pre{padding: 0;}#sk-db276f4f-174e-4edf-9f8e-f5a91431edf3 div.sk-toggleable {background-color: white;}#sk-db276f4f-174e-4edf-9f8e-f5a91431edf3 label.sk-toggleable__label {cursor: pointer;display: block;width: 100%;margin-bottom: 0;padding: 0.3em;box-sizing: border-box;text-align: center;}#sk-db276f4f-174e-4edf-9f8e-f5a91431edf3 label.sk-toggleable__label-arrow:before {content: \"▸\";float: left;margin-right: 0.25em;color: #696969;}#sk-db276f4f-174e-4edf-9f8e-f5a91431edf3 label.sk-toggleable__label-arrow:hover:before {color: black;}#sk-db276f4f-174e-4edf-9f8e-f5a91431edf3 div.sk-estimator:hover label.sk-toggleable__label-arrow:before {color: black;}#sk-db276f4f-174e-4edf-9f8e-f5a91431edf3 div.sk-toggleable__content {max-height: 0;max-width: 0;overflow: hidden;text-align: left;background-color: #f0f8ff;}#sk-db276f4f-174e-4edf-9f8e-f5a91431edf3 div.sk-toggleable__content pre {margin: 0.2em;color: black;border-radius: 0.25em;background-color: #f0f8ff;}#sk-db276f4f-174e-4edf-9f8e-f5a91431edf3 input.sk-toggleable__control:checked~div.sk-toggleable__content {max-height: 200px;max-width: 100%;overflow: auto;}#sk-db276f4f-174e-4edf-9f8e-f5a91431edf3 input.sk-toggleable__control:checked~label.sk-toggleable__label-arrow:before {content: \"▾\";}#sk-db276f4f-174e-4edf-9f8e-f5a91431edf3 div.sk-estimator input.sk-toggleable__control:checked~label.sk-toggleable__label {background-color: #d4ebff;}#sk-db276f4f-174e-4edf-9f8e-f5a91431edf3 div.sk-label input.sk-toggleable__control:checked~label.sk-toggleable__label {background-color: #d4ebff;}#sk-db276f4f-174e-4edf-9f8e-f5a91431edf3 input.sk-hidden--visually {border: 0;clip: rect(1px 1px 1px 1px);clip: rect(1px, 1px, 1px, 1px);height: 1px;margin: -1px;overflow: hidden;padding: 0;position: absolute;width: 1px;}#sk-db276f4f-174e-4edf-9f8e-f5a91431edf3 div.sk-estimator {font-family: monospace;background-color: #f0f8ff;border: 1px dotted black;border-radius: 0.25em;box-sizing: border-box;margin-bottom: 0.5em;}#sk-db276f4f-174e-4edf-9f8e-f5a91431edf3 div.sk-estimator:hover {background-color: #d4ebff;}#sk-db276f4f-174e-4edf-9f8e-f5a91431edf3 div.sk-parallel-item::after {content: \"\";width: 100%;border-bottom: 1px solid gray;flex-grow: 1;}#sk-db276f4f-174e-4edf-9f8e-f5a91431edf3 div.sk-label:hover label.sk-toggleable__label {background-color: #d4ebff;}#sk-db276f4f-174e-4edf-9f8e-f5a91431edf3 div.sk-serial::before {content: \"\";position: absolute;border-left: 1px solid gray;box-sizing: border-box;top: 2em;bottom: 0;left: 50%;}#sk-db276f4f-174e-4edf-9f8e-f5a91431edf3 div.sk-serial {display: flex;flex-direction: column;align-items: center;background-color: white;padding-right: 0.2em;padding-left: 0.2em;}#sk-db276f4f-174e-4edf-9f8e-f5a91431edf3 div.sk-item {z-index: 1;}#sk-db276f4f-174e-4edf-9f8e-f5a91431edf3 div.sk-parallel {display: flex;align-items: stretch;justify-content: center;background-color: white;}#sk-db276f4f-174e-4edf-9f8e-f5a91431edf3 div.sk-parallel::before {content: \"\";position: absolute;border-left: 1px solid gray;box-sizing: border-box;top: 2em;bottom: 0;left: 50%;}#sk-db276f4f-174e-4edf-9f8e-f5a91431edf3 div.sk-parallel-item {display: flex;flex-direction: column;position: relative;background-color: white;}#sk-db276f4f-174e-4edf-9f8e-f5a91431edf3 div.sk-parallel-item:first-child::after {align-self: flex-end;width: 50%;}#sk-db276f4f-174e-4edf-9f8e-f5a91431edf3 div.sk-parallel-item:last-child::after {align-self: flex-start;width: 50%;}#sk-db276f4f-174e-4edf-9f8e-f5a91431edf3 div.sk-parallel-item:only-child::after {width: 0;}#sk-db276f4f-174e-4edf-9f8e-f5a91431edf3 div.sk-dashed-wrapped {border: 1px dashed gray;margin: 0 0.4em 0.5em 0.4em;box-sizing: border-box;padding-bottom: 0.4em;background-color: white;position: relative;}#sk-db276f4f-174e-4edf-9f8e-f5a91431edf3 div.sk-label label {font-family: monospace;font-weight: bold;background-color: white;display: inline-block;line-height: 1.2em;}#sk-db276f4f-174e-4edf-9f8e-f5a91431edf3 div.sk-label-container {position: relative;z-index: 2;text-align: center;}#sk-db276f4f-174e-4edf-9f8e-f5a91431edf3 div.sk-container {/* jupyter's `normalize.less` sets `[hidden] { display: none; }` but bootstrap.min.css set `[hidden] { display: none !important; }` so we also need the `!important` here to be able to override the default hidden behavior on the sphinx rendered scikit-learn.org. See: https://github.com/scikit-learn/scikit-learn/issues/21755 */display: inline-block !important;position: relative;}#sk-db276f4f-174e-4edf-9f8e-f5a91431edf3 div.sk-text-repr-fallback {display: none;}</style><div id='sk-db276f4f-174e-4edf-9f8e-f5a91431edf3' class=\"sk-top-container\"><div class=\"sk-text-repr-fallback\"><pre>ForecastingGridSearchCV(cv=ExpandingWindowSplitter(step_length=6),\n",
       "                        forecaster=MultiplexForecaster(forecasters=[(&#x27;autoets&#x27;,\n",
       "                                                                     AutoETS()),\n",
       "                                                                    (&#x27;arima&#x27;,\n",
       "                                                                     ARIMA()),\n",
       "                                                                    (&#x27;sarimax&#x27;,\n",
       "                                                                     SARIMAX()),\n",
       "                                                                    (&#x27;varmax&#x27;,\n",
       "                                                                     VARMAX())]),\n",
       "                        param_grid={&#x27;selected_forecaster&#x27;: [&#x27;autoets&#x27;, &#x27;arima&#x27;,\n",
       "                                                            &#x27;sarimax&#x27;,\n",
       "                                                            &#x27;varmax&#x27;]})</pre><b>Please rerun this cell to show the HTML repr or trust the notebook.</b></div><div class=\"sk-container\" hidden><div class=\"sk-item sk-dashed-wrapped\"><div class='sk-label-container'><div class=\"sk-label sk-toggleable\"><input class=\"sk-toggleable__control sk-hidden--visually\" id=UUID('073af3a8-ae0f-44ca-a50b-ddf4a827af1b') type=\"checkbox\" ><label for=UUID('073af3a8-ae0f-44ca-a50b-ddf4a827af1b') class='sk-toggleable__label sk-toggleable__label-arrow'>ForecastingGridSearchCV</label><div class=\"sk-toggleable__content\"><pre>ForecastingGridSearchCV(cv=ExpandingWindowSplitter(step_length=6),\n",
       "                        forecaster=MultiplexForecaster(forecasters=[(&#x27;autoets&#x27;,\n",
       "                                                                     AutoETS()),\n",
       "                                                                    (&#x27;arima&#x27;,\n",
       "                                                                     ARIMA()),\n",
       "                                                                    (&#x27;sarimax&#x27;,\n",
       "                                                                     SARIMAX()),\n",
       "                                                                    (&#x27;varmax&#x27;,\n",
       "                                                                     VARMAX())]),\n",
       "                        param_grid={&#x27;selected_forecaster&#x27;: [&#x27;autoets&#x27;, &#x27;arima&#x27;,\n",
       "                                                            &#x27;sarimax&#x27;,\n",
       "                                                            &#x27;varmax&#x27;]})</pre></div></div></div><div class=\"sk-parallel\"><div class=\"sk-parallel-item\"><div class=\"sk-item\"><div class=\"sk-serial\"><div class='sk-item'><div class=\"sk-estimator sk-toggleable\"><input class=\"sk-toggleable__control sk-hidden--visually\" id=UUID('577351b4-cae1-4691-b760-fd4b02183e80') type=\"checkbox\" ><label for=UUID('577351b4-cae1-4691-b760-fd4b02183e80') class='sk-toggleable__label sk-toggleable__label-arrow'>ExpandingWindowSplitter</label><div class=\"sk-toggleable__content\"><pre>ExpandingWindowSplitter(step_length=6)</pre></div></div></div></div></div></div><div class=\"sk-parallel-item\"><div class=\"sk-item\"><div class=\"sk-serial\"><div class=\"sk-item sk-dashed-wrapped\"><div class=\"sk-parallel\"><div class=\"sk-parallel-item\"><div class=\"sk-item\"><div class=\"sk-serial\"><div class='sk-item'><div class=\"sk-estimator sk-toggleable\"><input class=\"sk-toggleable__control sk-hidden--visually\" id=UUID('9bcaeb9c-be47-4f9a-a539-76c500ce140f') type=\"checkbox\" ><label for=UUID('9bcaeb9c-be47-4f9a-a539-76c500ce140f') class='sk-toggleable__label sk-toggleable__label-arrow'>AutoETS</label><div class=\"sk-toggleable__content\"><pre>AutoETS()</pre></div></div></div></div></div></div><div class=\"sk-parallel-item\"><div class=\"sk-item\"><div class=\"sk-serial\"><div class='sk-item'><div class=\"sk-estimator sk-toggleable\"><input class=\"sk-toggleable__control sk-hidden--visually\" id=UUID('7c75c261-d651-4bfc-85e0-80fca60d7c56') type=\"checkbox\" ><label for=UUID('7c75c261-d651-4bfc-85e0-80fca60d7c56') class='sk-toggleable__label sk-toggleable__label-arrow'>ARIMA</label><div class=\"sk-toggleable__content\"><pre>ARIMA()</pre></div></div></div></div></div></div><div class=\"sk-parallel-item\"><div class=\"sk-item\"><div class=\"sk-serial\"><div class='sk-item'><div class=\"sk-estimator sk-toggleable\"><input class=\"sk-toggleable__control sk-hidden--visually\" id=UUID('35c24a10-04e8-41fe-a96f-afe0f368124b') type=\"checkbox\" ><label for=UUID('35c24a10-04e8-41fe-a96f-afe0f368124b') class='sk-toggleable__label sk-toggleable__label-arrow'>SARIMAX</label><div class=\"sk-toggleable__content\"><pre>SARIMAX()</pre></div></div></div></div></div></div><div class=\"sk-parallel-item\"><div class=\"sk-item\"><div class=\"sk-serial\"><div class='sk-item'><div class=\"sk-estimator sk-toggleable\"><input class=\"sk-toggleable__control sk-hidden--visually\" id=UUID('bf08f17d-7245-416d-9671-9454accd69c5') type=\"checkbox\" ><label for=UUID('bf08f17d-7245-416d-9671-9454accd69c5') class='sk-toggleable__label sk-toggleable__label-arrow'>VARMAX</label><div class=\"sk-toggleable__content\"><pre>VARMAX()</pre></div></div></div></div></div></div></div></div></div></div></div></div></div></div></div>"
      ],
      "text/plain": [
       "ForecastingGridSearchCV(cv=ExpandingWindowSplitter(step_length=6),\n",
       "                        forecaster=MultiplexForecaster(forecasters=[('autoets',\n",
       "                                                                     AutoETS()),\n",
       "                                                                    ('arima',\n",
       "                                                                     ARIMA()),\n",
       "                                                                    ('sarimax',\n",
       "                                                                     SARIMAX()),\n",
       "                                                                    ('varmax',\n",
       "                                                                     VARMAX())]),\n",
       "                        param_grid={'selected_forecaster': ['autoets', 'arima',\n",
       "                                                            'sarimax',\n",
       "                                                            'varmax']})"
      ]
     },
     "execution_count": 132,
     "metadata": {},
     "output_type": "execute_result"
    }
   ],
   "source": [
    "from sktime.forecasting.compose import MultiplexForecaster\n",
    "from sktime.forecasting.arima import ARIMA\n",
    "from sktime.forecasting.sarimax import SARIMAX\n",
    "from sktime.forecasting.varmax import VARMAX\n",
    "from sktime.forecasting.ets import AutoETS\n",
    "from sktime.forecasting.model_selection import (\n",
    "   ForecastingGridSearchCV,\n",
    "   ExpandingWindowSplitter)\n",
    "\n",
    "cv = ExpandingWindowSplitter(step_length=6) \n",
    "\n",
    "forecaster = MultiplexForecaster(forecasters=[\n",
    "    (\"autoets\", AutoETS()),\n",
    "    (\"arima\", ARIMA()),\n",
    "    (\"sarimax\", SARIMAX()),\n",
    "    (\"varmax\", VARMAX())\n",
    "    ])  \n",
    "\n",
    "gscv = ForecastingGridSearchCV(\n",
    "    cv=cv,\n",
    "    param_grid= {\"selected_forecaster\":[\"autoets\",\"arima\", \"sarimax\", \"varmax\"]},\n",
    "    forecaster= forecaster)\n",
    "\n",
    "gscv.fit(X[\"GSK\"], X=X[global_economy_indicators.keys()]) "
   ]
  },
  {
   "cell_type": "code",
   "execution_count": 136,
   "metadata": {},
   "outputs": [
    {
     "data": {
      "text/plain": [
       "{'selected_forecaster': 'arima'}"
      ]
     },
     "execution_count": 136,
     "metadata": {},
     "output_type": "execute_result"
    }
   ],
   "source": [
    "gscv.best_params_"
   ]
  },
  {
   "cell_type": "code",
   "execution_count": 137,
   "metadata": {},
   "outputs": [],
   "source": [
    "# Get the best model\n",
    "best_model = gscv.best_forecaster_\n",
    "\n",
    "# Forecast with the best model\n",
    "y_pred = best_model.predict(fh=np.arange(len(y)),\n",
    "                            X=X[global_economy_indicators.keys()])"
   ]
  },
  {
   "cell_type": "code",
   "execution_count": 138,
   "metadata": {},
   "outputs": [
    {
     "data": {
      "text/plain": [
       "<Axes: >"
      ]
     },
     "execution_count": 138,
     "metadata": {},
     "output_type": "execute_result"
    },
    {
     "data": {
      "image/png": "[encoded data removed]",
      "text/plain": [
       "<Figure size 640x480 with 1 Axes>"
      ]
     },
     "metadata": {},
     "output_type": "display_data"
    },
    {
     "ename": "",
     "evalue": "",
     "output_type": "error",
     "traceback": [
      "\u001b[1;31mThe Kernel crashed while executing code in the the current cell or a previous cell. Please review the code in the cell(s) to identify a possible cause of the failure. Click <a href='https://aka.ms/vscodeJupyterKernelCrash'>here</a> for more info. View Jupyter <a href='command:jupyter.viewOutput'>log</a> for further details."
     ]
    }
   ],
   "source": [
    "X[\"GSK\"].plot()\n",
    "y[\"GSK\"].plot()\n",
    "y_pred.plot()"
   ]
  },
  {
   "cell_type": "code",
   "execution_count": null,
   "metadata": {},
   "outputs": [],
   "source": []
  }
 ],
 "metadata": {
  "kernelspec": {
   "display_name": "causal_inference_ts",
   "language": "python",
   "name": "python3"
  },
  "language_info": {
   "codemirror_mode": {
    "name": "ipython",
    "version": 3
   },
   "file_extension": ".py",
   "mimetype": "text/x-python",
   "name": "python",
   "nbconvert_exporter": "python",
   "pygments_lexer": "ipython3",
   "version": "3.11.7"
  }
 },
 "nbformat": 4,
 "nbformat_minor": 2
}
